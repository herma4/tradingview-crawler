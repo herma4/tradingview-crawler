{
 "cells": [
  {
   "cell_type": "code",
   "execution_count": 1,
   "metadata": {},
   "outputs": [],
   "source": [
    "import pandas as pd\n",
    "import requests\n",
    "from bs4 import BeautifulSoup\n",
    "from selenium import webdriver\n",
    "import os\n",
    "import glob\n",
    "from selenium.webdriver.common.keys import Keys\n",
    "from selenium.webdriver.common.by import By\n",
    "from selenium.webdriver.support.ui import WebDriverWait\n",
    "from selenium.webdriver.support import expected_conditions as EC"
   ]
  },
  {
   "cell_type": "code",
   "execution_count": 2,
   "metadata": {},
   "outputs": [],
   "source": [
    "URL_CRYPTOCURRENCY_MARKET = \"https://www.tradingview.com/markets/cryptocurrencies/prices-all/\"\n",
    "URL_MARKET_INDICES = \"https://www.tradingview.com/markets/indices/quotes-major/\"\n",
    "URL_US_STOCK_MARKET_large_cap = \"https://www.tradingview.com/markets/stocks-usa/market-movers-large-cap/\"\n",
    "URL_US_STOCK_MARKET_sector = \"https://www.tradingview.com/markets/stocks-usa/sectorandindustry-sector/\"\n",
    "URL_US_STOCK_MARKET_industry = \"https://www.tradingview.com/markets/stocks-usa/sectorandindustry-industry/\"\n",
    "URL_FOREX_MARKET_currencies_indices = \"https://www.tradingview.com/markets/stocks-usa/sectorandindustry-industry/\"\n",
    "URL_FUTURES_MARKET = \"https://www.tradingview.com/markets/futures/quotes-all/\"\n",
    "URL_BOND_MARKET_major10Y = \"https://www.tradingview.com/markets/bonds/prices-major/\"\n",
    "lst_url = [URL_CRYPTOCURRENCY_MARKET, URL_MARKET_INDICES, URL_US_STOCK_MARKET_large_cap, URL_US_STOCK_MARKET_sector, URL_US_STOCK_MARKET_industry, URL_FOREX_MARKET_currencies_indices, URL_FUTURES_MARKET, URL_BOND_MARKET_major10Y]"
   ]
  },
  {
   "cell_type": "code",
   "execution_count": null,
   "metadata": {},
   "outputs": [],
   "source": [
    "driver_path = # put your driver path\n",
    "driver_name = # put your driver name\n",
    "driver = webdriver.Chrome(driver_path+driver_name)\n",
    "driver.implicitly_wait(10)\n",
    "# wait until a page is loaded\n",
    "driver.get(lst_url[0])\n",
    "btn_performance = '#js-screener-container > div.tv-screener-toolbar.tv-screener-toolbar--standalone.tv-screener-toolbar--one-line.tv-screener-toolbar--markets_absolute > div.tv-screener-toolbar__favorites > div > div > div:nth-child(2) > div'\n",
    "# wait until an element is clickable\n",
    "wait = WebDriverWait(driver, 10)\n",
    "element = wait.until(EC.element_to_be_clickable((By.CSS_SELECTOR, btn_performance)))\n",
    "element.click()"
   ]
  }
 ],
 "metadata": {
  "kernelspec": {
   "display_name": "Python 3.10.5 64-bit",
   "language": "python",
   "name": "python3"
  },
  "language_info": {
   "codemirror_mode": {
    "name": "ipython",
    "version": 3
   },
   "file_extension": ".py",
   "mimetype": "text/x-python",
   "name": "python",
   "nbconvert_exporter": "python",
   "pygments_lexer": "ipython3",
   "version": "3.10.5"
  },
  "orig_nbformat": 4,
  "vscode": {
   "interpreter": {
    "hash": "f019c2b22884733fa08eb69d8cd1813a85f91a8773b758629e4ec8d53311d267"
   }
  }
 },
 "nbformat": 4,
 "nbformat_minor": 2
}
